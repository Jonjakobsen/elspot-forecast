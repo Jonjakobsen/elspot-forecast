{
 "cells": [
  {
   "cell_type": "markdown",
   "id": "ae7d4021",
   "metadata": {},
   "source": [
    "# 01 – Data Preparation  \n",
    "Denne notebook indlæser og renser elprisdata og henter historisk vejrdata fra Open-Meteo API.\n"
   ]
  },
  {
   "cell_type": "code",
   "execution_count": null,
   "id": "e3d26b70",
   "metadata": {},
   "outputs": [
    {
     "name": "stdout",
     "output_type": "stream",
     "text": [
      "Gemte: ../data/processed/merged.csv\n"
     ]
    }
   ],
   "source": [
    "# ## Indlæsning af data\n",
    "import pandas as pd\n",
    "import requests\n",
    "\n",
    "df = pd.read_csv(\"../data/raw/DayAheadPrices.csv\", delimiter=\";\")\n",
    "df[\"HourDK\"] = pd.to_datetime(df[\"HourDK\"])\n",
    "df[\"SpotPriceDKK\"] = df[\"SpotPriceDKK\"].str.replace(\",\", \".\").astype(float)\n",
    "\n",
    "# Sorter kronologisk\n",
    "df = df.sort_values('HourDK').reset_index(drop=True)\n",
    "\n",
    "# Drop ubrugte kolonner\n",
    "df = df.drop(columns=[\"HourUTC\", \"PriceArea\", \"SpotPriceEUR\"])\n",
    "\n",
    "\n",
    "# Fjern dubletter og ufuldstændige døgn\n",
    "df[df.duplicated(subset=[\"HourDK\"], keep=False)]\n",
    "\n",
    "df = df.drop_duplicates(subset=[\"HourDK\"], keep=\"first\")\n",
    "\n",
    "df[df.duplicated(subset=[\"HourDK\"], keep=False)]\n",
    "\n",
    "# Find datoer med manglende timer (sommertid)\n",
    "all_hours = pd.date_range(df[\"HourDK\"].min(), df[\"HourDK\"].max(), freq=\"h\")\n",
    "missing_hours = set(all_hours) - set(df[\"HourDK\"])\n",
    "missing_dates = list({h.date() for h in missing_hours})\n",
    "\n",
    "# fjern datoer fra df\n",
    "\n",
    "missing_dates = [pd.Timestamp(d) for d in missing_dates]\n",
    "\n",
    "df = df[~df[\"HourDK\"].dt.normalize().isin(missing_dates)].copy()\n",
    "\n",
    "# Find datoer med manglende timer (sommertid)\n",
    "all_hours = pd.date_range(df[\"HourDK\"].min(), df[\"HourDK\"].max(), freq=\"h\")\n",
    "missing_hours = set(all_hours) - set(df[\"HourDK\"])\n",
    "missing_dates = list({h.date() for h in missing_hours})\n"
   ]
  },
  {
   "cell_type": "code",
   "execution_count": null,
   "id": "40070cf5",
   "metadata": {},
   "outputs": [],
   "source": [
    "\n",
    "\n",
    "# ## Hent historisk vejrdata fra Open-Meteo\n",
    "\n",
    "\n",
    "def fetch_weather_data(start_date, end_date, lat=56.2, lon=10.5):\n",
    "    url = \"https://archive-api.open-meteo.com/v1/archive\"\n",
    "    params = {\n",
    "        \"latitude\": lat,\n",
    "        \"longitude\": lon,\n",
    "        \"start_date\": start_date,\n",
    "        \"end_date\": end_date,\n",
    "        \"hourly\": [\"temperature_2m\", \"windspeed_10m\", \"shortwave_radiation\"],\n",
    "        \"timezone\": \"Europe/Copenhagen\"\n",
    "    }\n",
    "    r = requests.get(url, params=params)\n",
    "    r.raise_for_status()\n",
    "    data = r.json()\n",
    "    return pd.DataFrame({\n",
    "        \"TimeDK\": pd.to_datetime(data[\"hourly\"][\"time\"]),\n",
    "        \"Temperature\": data[\"hourly\"][\"temperature_2m\"],\n",
    "        \"WindSpeed\": data[\"hourly\"][\"windspeed_10m\"],\n",
    "        \"SolarRadiation\": data[\"hourly\"][\"shortwave_radiation\"]\n",
    "    })\n",
    "\n"
   ]
  },
  {
   "cell_type": "code",
   "execution_count": null,
   "id": "354aebb5",
   "metadata": {},
   "outputs": [],
   "source": [
    "\n",
    "\n",
    "df_weather = fetch_weather_data(df[\"HourDK\"].min().date(), df[\"HourDK\"].max().date())\n",
    "\n",
    "\n",
    "# ## Merge elpris og vejrdata\n",
    "df_merged = pd.merge(\n",
    "    df.rename(columns={\"HourDK\": \"TimeDK\"}),\n",
    "    df_weather,\n",
    "    on=\"TimeDK\",\n",
    "    how=\"inner\"\n",
    ")\n",
    "df_merged.to_csv(\"../data/processed/merged.csv\", index=False)\n",
    "print(\"Gemte:\", \"../data/processed/merged.csv\")\n",
    "\n"
   ]
  }
 ],
 "metadata": {
  "kernelspec": {
   "display_name": "venv",
   "language": "python",
   "name": "python3"
  },
  "language_info": {
   "codemirror_mode": {
    "name": "ipython",
    "version": 3
   },
   "file_extension": ".py",
   "mimetype": "text/x-python",
   "name": "python",
   "nbconvert_exporter": "python",
   "pygments_lexer": "ipython3",
   "version": "3.11.1"
  }
 },
 "nbformat": 4,
 "nbformat_minor": 5
}
